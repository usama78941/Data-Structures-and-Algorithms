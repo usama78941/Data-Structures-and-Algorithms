{
 "cells": [
  {
   "cell_type": "code",
   "execution_count": 1,
   "metadata": {},
   "outputs": [
    {
     "data": {
      "text/plain": [
       "'\\nAir Traffic Control System\\nNuclear Reactor Management\\nElectrical Grid Management\\n'"
      ]
     },
     "execution_count": 1,
     "metadata": {},
     "output_type": "execute_result"
    }
   ],
   "source": [
    "# R-2.1\n",
    "\"\"\"\n",
    "Air Traffic Control System\n",
    "Nuclear Reactor Management\n",
    "Electrical Grid Management\n",
    "\"\"\""
   ]
  },
  {
   "cell_type": "code",
   "execution_count": 2,
   "metadata": {},
   "outputs": [],
   "source": [
    "# R-2.4\n",
    "class Flower:\n",
    "    def __init__(self, name='Rose', num_of_petals=5, price=10):\n",
    "        if isinstance(name, str) and isinstance(num_of_petals, (int, float)) and isinstance(price, (float, int)):\n",
    "            self._name = name\n",
    "            self._num_of_petals = num_of_petals\n",
    "            self._price = price\n",
    "        else:\n",
    "            raise TypeError()\n",
    "            \n",
    "    def get_name(self):\n",
    "        return self._name\n",
    "    \n",
    "    def get_num_of_petals(self):\n",
    "        return self._num_of_petals\n",
    "    \n",
    "    def get_price(self):\n",
    "        return self._price\n",
    "    \n",
    "    def set_name(self, new_name):\n",
    "        if isinstance(new_name, str):\n",
    "            self._name = new_name\n",
    "        else:\n",
    "            raise TypeError()\n",
    "        \n",
    "    def set_num_of_petals(self, new_num_of_petals):\n",
    "        if isinstance(new_num_of_petals, (float, int)):\n",
    "            self._num_of_petals = new_num_of_petals\n",
    "        else:\n",
    "            raise TypeError()\n",
    "            \n",
    "    def set_price(self, new_price):\n",
    "        if isinstance(new_price, (int, float)):\n",
    "            self._price = new_price\n",
    "        else:\n",
    "            raise TypeError()"
   ]
  },
  {
   "cell_type": "code",
   "execution_count": 3,
   "metadata": {},
   "outputs": [],
   "source": [
    "# R-2.5 && R-2.6 && R-2.7\n",
    "\n",
    "class CreditCard:\n",
    "    \"\"\"A consumer Credit Card\"\"\"\n",
    "\n",
    "    def __init__(self, customer, account, bank, limit, balance = 0):\n",
    "        \"\"\"Create a new Credit Card instance\n",
    "\n",
    "        The initial balance is zero\n",
    "\n",
    "        customer the name of the customer (e.g., 'John Bowman')\n",
    "        bank     the name of the bank (e.g., 'California Savings')\n",
    "        account  the account identifier (e.g., 5391 0375 9387 5309)\n",
    "        limit    credit limit (measured in dollars)\n",
    "        \"\"\"\n",
    "\n",
    "        self._customer = customer\n",
    "        self._bank = bank\n",
    "        self._balance = balance  # for question # 7\n",
    "        self._account = account\n",
    "        self._limit = limit\n",
    "\n",
    "    def get_customer(self):\n",
    "        \"\"\"Return customer name\"\"\"\n",
    "        return self._customer\n",
    "\n",
    "    def get_bank(self):\n",
    "        \"\"\"Return bank name\"\"\"\n",
    "        return self._bank\n",
    "\n",
    "    def get_account(self):\n",
    "        \"\"\"Return account identifier\"\"\"\n",
    "        return self._account\n",
    "\n",
    "    def get_limit(self):\n",
    "        \"\"\"Return credit limit\"\"\"\n",
    "        return self._limit\n",
    "\n",
    "    def get_balance(self):\n",
    "        \"\"\"Return account balance\"\"\"\n",
    "        return self._balance\n",
    "\n",
    "    def charge(self, price):\n",
    "        \"\"\"Charge given price to the card, assuming sufficient credit limit\n",
    "\n",
    "        Return True if charge was processed, False if charge was denied\n",
    "        \"\"\"\n",
    "\n",
    "        if isinstance(price, (int, float)):\n",
    "            if price + self._balance > self._limit:\n",
    "                return False\n",
    "            else:\n",
    "                self._balance += price\n",
    "                return True\n",
    "        else:\n",
    "            raise TypeError()\n",
    "\n",
    "    def make_payment(self, amount):\n",
    "        \"\"\"Process customer payment that reduces the balance\"\"\"\n",
    "        if amount < 0:  # for question 2.6\n",
    "            raise ValueError()\n",
    "        if isinstance(amount, (int, float)):\n",
    "            self._balance -= amount\n",
    "        else:\n",
    "            raise TypeError()"
   ]
  },
  {
   "cell_type": "code",
   "execution_count": 4,
   "metadata": {},
   "outputs": [],
   "source": [
    "# R-2.8\n",
    "# i can simply increase the value of val parameter in the first for-loop to arbitrary high value, in order to increase the card limit\n",
    "from chapter_two.read.CreditCard import CreditCard"
   ]
  },
  {
   "cell_type": "code",
   "execution_count": 5,
   "metadata": {},
   "outputs": [],
   "source": [
    "# R-2.9, R-2.10\n",
    "from chapter_two.read.Vector import Vector\n",
    "class VectorAdditionalFunctions(Vector):\n",
    "    def __init__(self, dimension):\n",
    "        super().__init__(dimension)\n",
    "\n",
    "    def __sub__(self, other):\n",
    "        if len(self) != len(other):\n",
    "            raise ValueError('dimensions must agree')\n",
    "        length = len(self)\n",
    "        result = VectorAdditionalFunctions(length)\n",
    "        for i in range(length):\n",
    "            result[i] = self[i] - other[i]\n",
    "        return result\n",
    "\n",
    "    def __neg__(self):\n",
    "        length = len(self)\n",
    "        ans = VectorAdditionalFunctions(length)\n",
    "        for i in range(length):\n",
    "            ans[i] = -(self[i])\n",
    "        return ans\n",
    "\n",
    "    def __radd__(self, other):\n",
    "        length = len(other)\n",
    "        if length != len(self):\n",
    "            raise ValueError('dimensions must agree')\n",
    "        ans = VectorAdditionalFunctions(length)\n",
    "        for i in range(length):\n",
    "            ans[i] = other[i] + self[i]\n",
    "\n",
    "    def __mul__(self, other):\n",
    "        length = len(self)\n",
    "        ans = VectorAdditionalFunctions(length)\n",
    "        for i in range(length):\n",
    "            ans[i] = other * self[i]\n",
    "        return ans\n",
    "\n",
    "    def __rmul__(self, other):\n",
    "        print(f'self type is: {type(self)}')\n",
    "        print(f'other type: {type(other)}')\n",
    "\n",
    "        if isinstance(self, VectorAdditionalFunctions) and isinstance(other, int):\n",
    "            return self * other\n",
    "# i literally dont know how this shit is working, but it is working\n",
    "# if anyone knows kindly tell it to me also :rofl"
   ]
  },
  {
   "cell_type": "code",
   "execution_count": 6,
   "metadata": {
    "pycharm": {
     "name": "#%%\n"
    }
   },
   "outputs": [
    {
     "name": "stdout",
     "output_type": "stream",
     "text": [
      "Subtracted Vector is: < -20, -20, -20, -20, -20, -20, -20, -20, -20, -20 >\n",
      "Original Vector: < 0, 1, 2, 3, 4, 5, 6, 7, 8, 9 >\n",
      "Negated Vector: < 0, -1, -2, -3, -4, -5, -6, -7, -8, -9 >\n"
     ]
    }
   ],
   "source": [
    "b = VectorAdditionalFunctions(10)\n",
    "c = VectorAdditionalFunctions(10)\n",
    "\n",
    "for i in range(10):\n",
    "    b[i] = i\n",
    "a = 0\n",
    "for j in range(20, 30):\n",
    "    c[a] = j\n",
    "    a += 1\n",
    "\n",
    "subtracted_vector = b - c\n",
    "print(f'Subtracted Vector is: {subtracted_vector}')\n",
    "\n",
    "print(f'Original Vector: {b}\\nNegated Vector: {-b}')"
   ]
  },
  {
   "cell_type": "code",
   "execution_count": 7,
   "metadata": {
    "pycharm": {
     "name": "#%%\n"
    }
   },
   "outputs": [
    {
     "name": "stdout",
     "output_type": "stream",
     "text": [
      "list is: [5, 3, 10, -2, 1]\n",
      "Vector is: < 0, 1, 2, 3, 4 >\n",
      "Resulting vector is: None\n"
     ]
    }
   ],
   "source": [
    "# R-2.11\n",
    "\"\"\"we have only implemented the __add__ method which takes the method argument,\n",
    "the right operand of the equation, and thus call the __add__ method on vector\n",
    "rather than that of list class, so we can also have len(list) and it is also\n",
    "iterable that is why it is possible for that method to work as expected\"\"\"\n",
    "\n",
    "\"\"\"for our addition to work properly we need to provide the implementation of\n",
    "__radd__ as in right_add {which is given in {VectorAdditionalFunctions Class}}\"\"\"\n",
    "\n",
    "u = VectorAdditionalFunctions(5)\n",
    "for i in range(5):\n",
    "    u[i] = i\n",
    "\n",
    "li = [5, 3, 10, -2, 1]\n",
    "resulting_addition_vector = li + u\n",
    "print(f'list is: {li}\\nVector is: {u}\\nResulting vector is: {resulting_addition_vector}')"
   ]
  },
  {
   "cell_type": "code",
   "execution_count": 8,
   "metadata": {
    "pycharm": {
     "name": "#%%\n"
    }
   },
   "outputs": [
    {
     "name": "stdout",
     "output_type": "stream",
     "text": [
      "Original Vector is: < 0, 1, 2, 3, 4 >\n",
      "Multiplied by 3 would be: < 0, 3, 6, 9, 12 >\n"
     ]
    }
   ],
   "source": [
    "#R-2.12\n",
    "print(f'Original Vector is: {u}\\nMultiplied by 3 would be: {u * 3}')"
   ]
  },
  {
   "cell_type": "code",
   "execution_count": 9,
   "metadata": {
    "pycharm": {
     "name": "#%%\n"
    }
   },
   "outputs": [
    {
     "name": "stdout",
     "output_type": "stream",
     "text": [
      "self type is: <class '__main__.VectorAdditionalFunctions'>\n",
      "other type: <class 'int'>\n",
      "Here I am using __rmul__(self, other)\n",
      "Original Vector is: < 0, 1, 2, 3, 4 >\n",
      "Multiplied by 3 would be: < 0, 3, 6, 9, 12 >\n"
     ]
    }
   ],
   "source": [
    "# R-2.13\n",
    "print(f'Here I am using __rmul__(self, other)\\nOriginal Vector is: {u}\\nMultiplied by 3 would be: {3 * u}')"
   ]
  },
  {
   "cell_type": "code",
   "execution_count": 10,
   "metadata": {
    "pycharm": {
     "name": "#%%\n"
    }
   },
   "outputs": [
    {
     "name": "stdout",
     "output_type": "stream",
     "text": [
      "< 0, 1, 2, 3, 4, 5, 6, 7, 8, 9 >\n",
      "< 0, 1, 2, 3, 4, 5, 6, 7, 8, 9 >\n",
      "285\n"
     ]
    }
   ],
   "source": [
    "#R-2.14\n",
    "\n",
    "class VectorForDot(Vector):\n",
    "\n",
    "    def __init__(self, dimensions):\n",
    "        super().__init__(dimensions)\n",
    "\n",
    "    def __mul__(self, other):\n",
    "        if isinstance(self, VectorForDot) and isinstance(other, VectorForDot):\n",
    "            if len(self) != len(other):\n",
    "                raise ValueError('dimensions must agree, to perform dot product')\n",
    "            sum_zero = 0\n",
    "            for i in range(len(other)):\n",
    "                sum_zero += self[i] * other[i]\n",
    "            return sum_zero\n",
    "        else:\n",
    "            raise TypeError('different types does not allow dot product of the vector')\n",
    "\n",
    "test_vector_for_dot_zero = VectorForDot(10)\n",
    "test_vector_for_dot_one = VectorForDot(10)\n",
    "for i in range(10):\n",
    "    test_vector_for_dot_zero[i] = i\n",
    "    test_vector_for_dot_one[i] = i\n",
    "\n",
    "print(test_vector_for_dot_zero)\n",
    "print(test_vector_for_dot_one)\n",
    "print(test_vector_for_dot_one * test_vector_for_dot_zero)"
   ]
  },
  {
   "cell_type": "code",
   "execution_count": 11,
   "metadata": {
    "pycharm": {
     "name": "#%%\n"
    }
   },
   "outputs": [],
   "source": [
    "# R-2.15\n",
    "class GeneralizedVector(Vector):\n",
    "\n",
    "    def __init__(self, coordinates):\n",
    "        if isinstance(coordinates, int):\n",
    "            super().__init__(coordinates)\n",
    "        else:\n",
    "            length = len(coordinates)\n",
    "            super.__init__(length)\n",
    "            for i in range(length):\n",
    "                super()._coords[i] = coordinates[i]"
   ]
  },
  {
   "cell_type": "markdown",
   "metadata": {
    "pycharm": {
     "name": "#%% md\n"
    }
   },
   "source": [
    "# 2.17\n",
    "\n",
    "<img src=\"../res/ClassDiagram.png\">"
   ]
  },
  {
   "cell_type": "code",
   "execution_count": 12,
   "metadata": {
    "pycharm": {
     "name": "#%%\n"
    }
   },
   "outputs": [
    {
     "name": "stdout",
     "output_type": "stream",
     "text": [
      "8th term in the sequence is: 42\n"
     ]
    }
   ],
   "source": [
    "# R-2.18\n",
    "from chapter_two.read.Progression import FibonacciProgression\n",
    "v = FibonacciProgression(2, 2)\n",
    "for i in range(8):\n",
    "    a = next(v)\n",
    "    if i == 7:\n",
    "        print(f'8th term in the sequence is: {a}')"
   ]
  },
  {
   "cell_type": "code",
   "execution_count": 15,
   "metadata": {
    "pycharm": {
     "name": "#%%\n"
    }
   },
   "outputs": [],
   "source": [
    "# R-2.19\n",
    "\n",
    "# The code of this question would take too long to run, thereby\n",
    "# we can assume that, with an increment of 128, total number of calls to\n",
    "# reach 2e63 would be 2e63/128 ±1\n",
    "\n",
    "# from chapter_two.read.Progression import ArithmeticProgression\n",
    "# ap = ArithmeticProgression(0, 128)\n",
    "# last_value = int(pow(2, 63))\n",
    "# count = 0\n",
    "# print(type(last_value))\n",
    "# for i in range(last_value):\n",
    "#     next(ap)\n",
    "#     count += 1\n",
    "\n",
    "# print(count)\n"
   ]
  },
  {
   "cell_type": "code",
   "execution_count": 18,
   "metadata": {
    "pycharm": {
     "name": "#%%\n"
    }
   },
   "outputs": [
    {
     "name": "stdout",
     "output_type": "stream",
     "text": [
      "usama\n"
     ]
    }
   ],
   "source": [
    "# R-2.20\n",
    "\n",
    "# deep inheritance can cause design problems\n",
    "# as if the change in one class' implementation\n",
    "# occurs, that could result in entire code breakage,\n",
    "# if rest of all the users are not informed about the\n",
    "# change, in the class' implementation"
   ]
  },
  {
   "cell_type": "code",
   "execution_count": null,
   "outputs": [],
   "source": [
    "# R-2.21\n",
    "\n",
    "# if shallow inheritance is used, then it is strictly against\n",
    "# the norm of programming i.e. DRY (do not repeat yourself)\n",
    "# making class' implementation heavy and making programmer to write\n",
    "# same redundant code again and again\n"
   ],
   "metadata": {
    "collapsed": false,
    "pycharm": {
     "name": "#%%\n"
    }
   }
  },
  {
   "cell_type": "code",
   "execution_count": 19,
   "outputs": [
    {
     "ename": "SyntaxError",
     "evalue": "invalid syntax (<ipython-input-19-69217aa44004>, line 11)",
     "output_type": "error",
     "traceback": [
      "\u001B[1;36m  File \u001B[1;32m\"<ipython-input-19-69217aa44004>\"\u001B[1;36m, line \u001B[1;32m11\u001B[0m\n\u001B[1;33m    for i in range(len(self))\u001B[0m\n\u001B[1;37m                             ^\u001B[0m\n\u001B[1;31mSyntaxError\u001B[0m\u001B[1;31m:\u001B[0m invalid syntax\n"
     ]
    }
   ],
   "source": [
    "# R-2.22, R-2.23\n",
    "\n",
    "from chapter_two.read import SequenceIterator\n",
    "\n",
    "class SpecifiedSequence(SequenceIterator):\n",
    "\n",
    "    def __init__(self, sequence):\n",
    "        super().__init(sequence)\n",
    "\n",
    "    def __eq__(self, other):\n",
    "        if type(self) is type(other):\n",
    "            if len(self) == len(other):\n",
    "                for i in range(len(self)):\n",
    "                    if self[i] != other[i]:\n",
    "                        return False\n",
    "                return True\n",
    "            else:\n",
    "                raise ValueError('length of both sequences must match')\n",
    "        else:\n",
    "            raise TypeError('both sequence of are not of same type')\n",
    "\n",
    "    def __lt__(self, other):\n",
    "        minimum = min(len(self), len(other))\n",
    "        for i in range(minimum):\n",
    "            if not (self[i] < other[i]):\n",
    "                return False\n",
    "        return True"
   ],
   "metadata": {
    "collapsed": false,
    "pycharm": {
     "name": "#%%\n"
    }
   }
  }
 ],
 "metadata": {
  "kernelspec": {
   "display_name": "Python 3",
   "language": "python",
   "name": "python3"
  },
  "language_info": {
   "codemirror_mode": {
    "name": "ipython",
    "version": 3
   },
   "file_extension": ".py",
   "mimetype": "text/x-python",
   "name": "python",
   "nbconvert_exporter": "python",
   "pygments_lexer": "ipython3",
   "version": "3.8.2"
  }
 },
 "nbformat": 4,
 "nbformat_minor": 2
}
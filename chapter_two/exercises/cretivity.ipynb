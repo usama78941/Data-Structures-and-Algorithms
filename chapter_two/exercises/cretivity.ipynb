{
 "cells": [
  {
   "cell_type": "code",
   "execution_count": 1,
   "metadata": {
    "collapsed": true
   },
   "outputs": [
    {
     "name": "stdout",
     "output_type": "stream",
     "text": [
      "original A vector: < 0, 1, 2, 3, 4, 5, 6, 7, 8, 9 >\n",
      "original B vector: < 0, 1, 2, 3, 4, 5, 6, 7, 8, 9 >\n",
      "Value of C: 10\n",
      "Multiply vector with integer: < 0, 10, 20, 30, 40, 50, 60, 70, 80, 90 >\n",
      "Multiply vector with vector: 285\n"
     ]
    }
   ],
   "source": [
    "# C-2.25\n",
    "from chapter_two.read.CreditCard import PredatoryCreditCard\n",
    "\n",
    "from chapter_two.read.Vector import Vector\n",
    "\n",
    "class VectorAddition(Vector):\n",
    "\n",
    "    def __init__(self, dimensions):\n",
    "        super().__init__(dimensions)\n",
    "\n",
    "    def __mul__(self, other):\n",
    "        if isinstance(self, VectorAddition) and isinstance(other, VectorAddition):\n",
    "            if len(self) != len(other):\n",
    "                raise ValueError('dimensions must agree, to perform dot product')\n",
    "            sum_zero = 0\n",
    "            for i in range(len(other)):\n",
    "                sum_zero += self[i] * other[i]\n",
    "            return sum_zero\n",
    "        elif isinstance(self, VectorAddition) and isinstance(other, (int, float)):\n",
    "            length = len(self)\n",
    "            ans = VectorAddition(length)\n",
    "            for i in range(length):\n",
    "                ans[i] = self[i] * other\n",
    "            return ans\n",
    "            pass\n",
    "        else:\n",
    "            raise TypeError('different types does not allow dot product of the vector')\n",
    "a = VectorAddition(10)\n",
    "b = VectorAddition(10)\n",
    "c = 10\n",
    "for i in range(10):\n",
    "    a[i] = i\n",
    "\n",
    "for i in range(10):\n",
    "    b[i] = i\n",
    "\n",
    "print(f'original A vector: {a}\\noriginal B vector: {b}\\nValue of C: {c}\\nMultiply vector with integer: {a * c}'\n",
    "      f'\\nMultiply vector with vector: {a * b}')"
   ]
  },
  {
   "cell_type": "code",
   "execution_count": 2,
   "outputs": [
    {
     "name": "stdout",
     "output_type": "stream",
     "text": [
      "90\n",
      "80\n",
      "70\n",
      "60\n",
      "50\n",
      "40\n",
      "30\n",
      "20\n",
      "10\n",
      "0\n"
     ]
    }
   ],
   "source": [
    "# C-2.26\n",
    "\n",
    "class ReverseSequenceIterator:\n",
    "\n",
    "    def __init__(self, sequence):\n",
    "        self._sequence = sequence\n",
    "        self._current_index = len(self._sequence)\n",
    "\n",
    "    def __len__(self):\n",
    "        return len(self._sequence)\n",
    "\n",
    "    def _advance(self):\n",
    "        self._current_index -= 1\n",
    "\n",
    "    def __next__(self):\n",
    "        self._current_index -= 1\n",
    "        if self._current_index <= -1:\n",
    "            raise StopIteration()\n",
    "        return self._sequence[self._current_index]\n",
    "\n",
    "    def __iter__(self):\n",
    "        return self\n",
    "\n",
    "reverse = [j for j in range(0, 100, 10)]\n",
    "iterator = ReverseSequenceIterator(reverse)\n",
    "for i in iterator:\n",
    "    print(i)\n"
   ],
   "metadata": {
    "collapsed": false,
    "pycharm": {
     "name": "#%%\n"
    }
   }
  },
  {
   "cell_type": "code",
   "execution_count": 3,
   "outputs": [
    {
     "name": "stdout",
     "output_type": "stream",
     "text": [
      "Balance Status for transaction 0 is: 101\n",
      "Balance Status for transaction 1 is: 102\n",
      "Balance Status for transaction 2 is: 103\n",
      "Balance Status for transaction 3 is: 104\n",
      "Balance Status for transaction 4 is: 105\n",
      "Balance Status for transaction 5 is: 106\n",
      "Balance Status for transaction 6 is: 107\n",
      "Balance Status for transaction 7 is: 108\n",
      "Balance Status for transaction 8 is: 109\n",
      "Balance Status for transaction 9 is: 111\n",
      "Balance Status for transaction 10 is: 113\n",
      "Balance Status for transaction 11 is: 115\n",
      "Balance Status for transaction 12 is: 117\n",
      "Balance Status for transaction 13 is: 119\n",
      "Balance Status for transaction 14 is: 121\n",
      "Balance Status for transaction 15 is: 123\n",
      "Balance Status for transaction 16 is: 125\n",
      "Balance Status for transaction 17 is: 127\n",
      "Balance Status for transaction 18 is: 129\n",
      "Balance Status for transaction 19 is: 131\n"
     ]
    }
   ],
   "source": [
    "# C-2.28\n",
    "class PredatoryCreditCardAddition(PredatoryCreditCard):\n",
    "\n",
    "    def __init__(self, customer, bank, account, limit, apr):\n",
    "        super().__init__(customer, bank, account, limit, apr)\n",
    "        self._count_months = 0\n",
    "\n",
    "    def charge(self, price):\n",
    "        self._count_months += 1\n",
    "        val = super().charge(price)\n",
    "        if self._count_months > 10:\n",
    "            self._balance += 1\n",
    "        return val\n",
    "\n",
    "pcca = PredatoryCreditCardAddition('John Bowman', 'California Savings',\n",
    "                          '56 5391 0375 9387 5309', 2500, 8.25)\n",
    "pcca.charge(100)\n",
    "for i in range(20):\n",
    "    print(f'Balance Status for transaction {i} is:', end=' ')\n",
    "    pcca.charge(1)\n",
    "    print(pcca.get_balance())"
   ],
   "metadata": {
    "collapsed": false,
    "pycharm": {
     "name": "#%%\n"
    }
   }
  },
  {
   "cell_type": "code",
   "execution_count": 4,
   "outputs": [],
   "source": [
    "# C-2.30\n",
    "class CreditCard:\n",
    "    \"\"\"A Consumer CreditCard\"\"\"\n",
    "\n",
    "    def __init__(self, customer, bank, account, limit):\n",
    "        \"\"\" Creates a new CreditCard instance\n",
    "        The initial balance is 0\n",
    "\n",
    "        customer    the name of the customer \\n\n",
    "        bank        the name of the bank \\n\n",
    "        account     the account identifier \\n\n",
    "        limit       credit limit \\n\n",
    "        \"\"\"\n",
    "\n",
    "        self._customer = customer\n",
    "        self._bank = bank\n",
    "        self._account = account\n",
    "        self._limit = limit\n",
    "        self._balance = 0\n",
    "\n",
    "    def get_customer(self):\n",
    "        \"\"\"Return name of the customer\"\"\"\n",
    "        return self._customer\n",
    "\n",
    "    def get_bank(self):\n",
    "        \"\"\"Return the bank's name\"\"\"\n",
    "        return self._bank\n",
    "\n",
    "    def get_account(self):\n",
    "        \"\"\"Return the card identifying number (Typically stored as String)\"\"\"\n",
    "        return self._account\n",
    "\n",
    "    def get_limit(self):\n",
    "        \"\"\"Return the current Credit limit\"\"\"\n",
    "        return self._limit\n",
    "\n",
    "    def get_balance(self):\n",
    "        \"\"\"Return current balance\"\"\"\n",
    "        return self._balance\n",
    "\n",
    "    def charge(self, price):\n",
    "        \"\"\"Charge given price to the Card, assuming sufficient credit limit\n",
    "\n",
    "        Return True if charge was processed, False if charge was denied\n",
    "        \"\"\"\n",
    "        if price + self.get_balance() > self._limit:\n",
    "            return False\n",
    "        else:\n",
    "            self._set_balance(self.get_balance() + price)\n",
    "            return True\n",
    "\n",
    "    def make_payment(self, amount):\n",
    "        \"\"\"Process Customer payment that reduces balance\"\"\"\n",
    "        self._set_balance((self.get_balance() - amount))\n",
    "\n",
    "    def _set_balance(self, new_balance):\n",
    "        self._balance = new_balance\n",
    "\n",
    "\n",
    "class PredatoryCreditCard(CreditCard):\n",
    "    \"\"\"An extension to credit card that compound interest and fees\"\"\"\n",
    "\n",
    "    def __init__(self, customer, bank, account, limit, apr):\n",
    "        \"\"\"Create a new predatory CreditCard instance\n",
    "\n",
    "        The initail balance is zero\n",
    "\n",
    "        customer    the name of the customer \\n\n",
    "        bank        the name of the bank \\n\n",
    "        account     the account identifier \\n\n",
    "        limit       credit limit \\n\n",
    "        apr         annual percentage rate (0.0825 for 8.25% APR) \"\"\"\n",
    "\n",
    "        super().__init__(customer, bank, account, limit)\n",
    "        self._apr = apr\n",
    "\n",
    "    def charge(self, price):\n",
    "        \"\"\"Charge given price to the card, assuming sufficient credit limit\n",
    "\n",
    "        Return True if charge was processed.\n",
    "        Return False and asses $5 fee if charge is denied\n",
    "        \"\"\"\n",
    "\n",
    "        success = super().charge(price)\n",
    "        if not success:\n",
    "            self._set_balance(self.get_balance() + 5)\n",
    "\n",
    "        return success\n",
    "\n",
    "    def process_month(self):\n",
    "        \"\"\"Asses monthly interest on outstanding balance\"\"\"\n",
    "\n",
    "        if self.get_balance() > 0:\n",
    "            self._set_balance(self.get_balance() + (((self._apr / 12) / 100) * self._balance))"
   ],
   "metadata": {
    "collapsed": false,
    "pycharm": {
     "name": "#%%\n"
    }
   }
  },
  {
   "cell_type": "code",
   "execution_count": 7,
   "outputs": [
    {
     "name": "stdout",
     "output_type": "stream",
     "text": [
      "200 198 2 196 194 2 192 190 2 188 186 2 184 182 2 180 178 2 176 174 2 172 170 2 168 166 2 164 162 2 160 158 2 156 154 2 152 150 2 148 146 2 144 142 2 140 138 2 136 134 2 132 130 2 128 126 2 124 122 2 120 118 2 116 114 2 112 110 2 108 106 2 104 102 2 100 98 2 96 94 2 92 90 2 88 86 2 84 82 2 80 78 2 76 74 2 72 70 2 68 66 2 64 62 2 60 58 2 56 54 2 52 50 2 48 46 2 44 42 2 40 38 2 36 34 2 32 30 2 28 26 2 24 22 2 20 18 2 16 14 2 12 10 2 8 6 2 4 2 2 0 "
     ]
    }
   ],
   "source": [
    "# C-2.31\n",
    "from chapter_two.read.Progression import Progression\n",
    "class MyClassOne(Progression):\n",
    "\n",
    "    def __init__(self, first=2, second=200, stop=0):\n",
    "        super().__init__(second)\n",
    "        self._first = first\n",
    "        self._second = second\n",
    "        self._stop = stop\n",
    "\n",
    "    def _advance(self):\n",
    "        if self._second <= self._stop  :\n",
    "            self._current = None\n",
    "            return\n",
    "        self._current = abs((self._second - self._first))\n",
    "        self._first, self._second = self._second, self._current\n",
    "\n",
    "a = MyClassOne()\n",
    "for i in a:\n",
    "    print(i, end=' ')"
   ],
   "metadata": {
    "collapsed": false,
    "pycharm": {
     "name": "#%%\n"
    }
   }
  },
  {
   "cell_type": "code",
   "execution_count": 5,
   "outputs": [
    {
     "name": "stdout",
     "output_type": "stream",
     "text": [
      "65536\n",
      "256.0\n",
      "16.0\n",
      "4.0\n",
      "2.0\n",
      "1.4142135623730951\n"
     ]
    }
   ],
   "source": [
    "# C-2.32\n",
    "\n",
    "from chapter_two.read.Progression import Progression\n",
    "\n",
    "class MyClassZero(Progression):\n",
    "\n",
    "    def __init__(self, start=65536, stop=2):\n",
    "        super().__init__(start)\n",
    "        self._stop = stop\n",
    "\n",
    "    def _advance(self):\n",
    "        if self._current < self._stop:\n",
    "            self._current = None\n",
    "            return\n",
    "        self._current = pow(self._current, (1 / 2))\n",
    "\n",
    "obj = MyClassZero()\n",
    "for i in obj:\n",
    "    print(i)"
   ],
   "metadata": {
    "collapsed": false,
    "pycharm": {
     "name": "#%%\n"
    }
   }
  }
 ],
 "metadata": {
  "kernelspec": {
   "display_name": "Python 3",
   "language": "python",
   "name": "python3"
  },
  "language_info": {
   "codemirror_mode": {
    "name": "ipython",
    "version": 2
   },
   "file_extension": ".py",
   "mimetype": "text/x-python",
   "name": "python",
   "nbconvert_exporter": "python",
   "pygments_lexer": "ipython2",
   "version": "2.7.6"
  }
 },
 "nbformat": 4,
 "nbformat_minor": 0
}